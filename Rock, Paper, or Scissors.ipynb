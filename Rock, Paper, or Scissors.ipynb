{
 "cells": [
  {
   "cell_type": "code",
   "execution_count": null,
   "id": "27d307db",
   "metadata": {},
   "outputs": [],
   "source": [
    "import random\n",
    "\n",
    "def play():\n",
    "    \n",
    "    user = input(\"Choose 'r' for rock, 'p' for paper, 's', scissors: \")\n",
    "    \n",
    "    computer = random.choice(['r', 'p', 's'])\n",
    "    \n",
    "    if user == computer:\n",
    "        \n",
    "        return print('It is a tie.')\n",
    "    \n",
    "    elif (user == 'r' and computer == 's') or (user == 's' and computer == 'p') or (user == 'p' and computer == 'r'):\n",
    "        \n",
    "        return print('You won!')\n",
    "    \n",
    "    else:\n",
    "        \n",
    "        return print('You lost!')\n",
    "\n",
    "play()"
   ]
  }
 ],
 "metadata": {
  "kernelspec": {
   "display_name": "Python 3 (ipykernel)",
   "language": "python",
   "name": "python3"
  },
  "language_info": {
   "codemirror_mode": {
    "name": "ipython",
    "version": 3
   },
   "file_extension": ".py",
   "mimetype": "text/x-python",
   "name": "python",
   "nbconvert_exporter": "python",
   "pygments_lexer": "ipython3",
   "version": "3.9.12"
  }
 },
 "nbformat": 4,
 "nbformat_minor": 5
}
