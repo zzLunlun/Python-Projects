{
 "cells": [
  {
   "cell_type": "code",
   "execution_count": 29,
   "id": "f32bc871",
   "metadata": {},
   "outputs": [],
   "source": [
    "# Regular search\n",
    "def regular_search(l, target):\n",
    "    \n",
    "    for i in range(len(l)):\n",
    "        \n",
    "        if l[i] == target:\n",
    "            \n",
    "            return i\n",
    "        \n",
    "    return -1 # Return -1 if target value is not in list l"
   ]
  },
  {
   "cell_type": "code",
   "execution_count": 30,
   "id": "aec892f7",
   "metadata": {},
   "outputs": [],
   "source": [
    "# Binary Search\n",
    "def binary_search(l, target, low = None, high = None):\n",
    "    \n",
    "    if low is None:\n",
    "        \n",
    "        low = 0\n",
    "        \n",
    "    if high is None:\n",
    "        \n",
    "        high = len(l) - 1\n",
    "        \n",
    "    if high < low:\n",
    "        \n",
    "        return -1 # Return -1 if target value is not in list l\n",
    "    \n",
    "    midpoint = (low + high) // 2\n",
    "    \n",
    "    if l[midpoint] == target:\n",
    "        \n",
    "        return midpoint\n",
    "    \n",
    "    elif target < l[midpoint]:\n",
    "        \n",
    "        return binary_search(l, target, low, midpoint - 1)\n",
    "    \n",
    "    else:\n",
    "        \n",
    "        binary_search(l, target, midpoint + 1, high)"
   ]
  },
  {
   "cell_type": "code",
   "execution_count": 31,
   "id": "fb87698d",
   "metadata": {
    "scrolled": true
   },
   "outputs": [
    {
     "data": {
      "text/plain": [
       "(-1, -1)"
      ]
     },
     "execution_count": 31,
     "metadata": {},
     "output_type": "execute_result"
    }
   ],
   "source": [
    "l = [1, 2, 3, 4, 5, 10, 14]\n",
    "\n",
    "target = 0\n",
    "\n",
    "binary_search(l, target), regular_search(l, target)"
   ]
  },
  {
   "cell_type": "code",
   "execution_count": 32,
   "id": "b0d76e66",
   "metadata": {},
   "outputs": [
    {
     "data": {
      "text/plain": [
       "(1, 1)"
      ]
     },
     "execution_count": 32,
     "metadata": {},
     "output_type": "execute_result"
    }
   ],
   "source": [
    "target = 2\n",
    "\n",
    "binary_search(l, target), regular_search(l, target)"
   ]
  },
  {
   "cell_type": "code",
   "execution_count": 33,
   "id": "60c62bb4",
   "metadata": {},
   "outputs": [
    {
     "name": "stdout",
     "output_type": "stream",
     "text": [
      "5.47 µs ± 64.9 ns per loop (mean ± std. dev. of 7 runs, 100,000 loops each)\n",
      "88.1 µs ± 1.98 µs per loop (mean ± std. dev. of 7 runs, 10,000 loops each)\n"
     ]
    }
   ],
   "source": [
    "import numpy as np\n",
    "\n",
    "np.random.seed(0) # Prevent\n",
    "\n",
    "list = np.random.randint(0, 1000, 1000) # Create an array of 1000 integers ranging from 0 to 999\n",
    "\n",
    "list.sort() # Sort list from smalles to biggest value\n",
    "\n",
    "target = 449\n",
    "\n",
    "%timeit binary_search(list, target)\n",
    "%timeit regular_search(list, target)\n",
    "\n",
    "# Binary search is a lot faster!"
   ]
  }
 ],
 "metadata": {
  "kernelspec": {
   "display_name": "Python 3 (ipykernel)",
   "language": "python",
   "name": "python3"
  },
  "language_info": {
   "codemirror_mode": {
    "name": "ipython",
    "version": 3
   },
   "file_extension": ".py",
   "mimetype": "text/x-python",
   "name": "python",
   "nbconvert_exporter": "python",
   "pygments_lexer": "ipython3",
   "version": "3.9.12"
  }
 },
 "nbformat": 4,
 "nbformat_minor": 5
}
