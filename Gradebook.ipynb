{
 "cells": [
  {
   "cell_type": "code",
   "execution_count": null,
   "id": "474f9c2a",
   "metadata": {},
   "outputs": [],
   "source": [
    "def GradeBook():\n",
    "    \n",
    "    D = {}\n",
    "    \n",
    "    while True:\n",
    "        \n",
    "        studentId = input('Enter Student ID: ')\n",
    "        \n",
    "        marks = input('Enter the marks by comma separated values: ')\n",
    "        \n",
    "        moreStudents = input('Are there more students? Enter yes or no: ')\n",
    "        \n",
    "        if studentId in D:\n",
    "            \n",
    "            print(studentId, ' is already inserted')\n",
    "            \n",
    "        else:\n",
    "            \n",
    "            D[studentId] = marks.split(',')\n",
    "            \n",
    "        if moreStudents.lower() == 'no':\n",
    "            \n",
    "            return D\n",
    "            break  \n",
    "\n",
    "studentGrades = GradeBook()   "
   ]
  },
  {
   "cell_type": "code",
   "execution_count": null,
   "id": "134791d9",
   "metadata": {},
   "outputs": [],
   "source": [
    "def getAverageMark(D):\n",
    "    \n",
    "    AD = {}\n",
    "    \n",
    "    for x in D:\n",
    "        \n",
    "        L = D[x]\n",
    "        \n",
    "        s = 0\n",
    "        \n",
    "        for marks in L:\n",
    "            \n",
    "            s += int(marks)\n",
    "            \n",
    "        AD[x] = s/len(L)\n",
    "        \n",
    "    return AD\n",
    "\n",
    "getAverageMark(studentGrades)"
   ]
  }
 ],
 "metadata": {
  "kernelspec": {
   "display_name": "Python 3 (ipykernel)",
   "language": "python",
   "name": "python3"
  },
  "language_info": {
   "codemirror_mode": {
    "name": "ipython",
    "version": 3
   },
   "file_extension": ".py",
   "mimetype": "text/x-python",
   "name": "python",
   "nbconvert_exporter": "python",
   "pygments_lexer": "ipython3",
   "version": "3.9.12"
  }
 },
 "nbformat": 4,
 "nbformat_minor": 5
}
