{
 "cells": [
  {
   "cell_type": "code",
   "execution_count": null,
   "id": "51a481e7",
   "metadata": {},
   "outputs": [],
   "source": [
    "import random\n",
    "\n",
    "# User guess the random number\n",
    "def user_guess(x):\n",
    "    \n",
    "    random_number = random.randint(1, x)\n",
    "    \n",
    "    guess = 0\n",
    "    \n",
    "    while guess != random_number:\n",
    "        \n",
    "        guess = int(input(f\"Guess a number between 1 and {x}: \"))\n",
    "        \n",
    "        if guess < random_number:\n",
    "            \n",
    "            print('Guess again. Too low.')\n",
    "            \n",
    "        elif guess > random_number:\n",
    "            \n",
    "            print('Guess again. Too high.')\n",
    "            \n",
    "        else:\n",
    "            \n",
    "            if guess == random_number:\n",
    "                \n",
    "                print('Congrats! You have guessed the random number!')\n",
    "                \n",
    "                break"
   ]
  },
  {
   "cell_type": "code",
   "execution_count": null,
   "id": "8269af34",
   "metadata": {},
   "outputs": [],
   "source": [
    "def computer_guess(x):\n",
    "    \n",
    "    low = 1\n",
    "    \n",
    "    high = x\n",
    "    \n",
    "    feedback = ''\n",
    "    \n",
    "    while feedback != 'c':\n",
    "        \n",
    "        if low != high:\n",
    "            \n",
    "            guess = random.randint(low, high)\n",
    "            \n",
    "        else:\n",
    "            \n",
    "            guess = low\n",
    "            \n",
    "        feedback = input(f\"Is {guess} too high(H), too low(L), or correct(C)? \").lower()\n",
    "        \n",
    "        if feedback == 'h':\n",
    "            \n",
    "            high = guess - 1\n",
    "            \n",
    "        elif feedback == 'l':\n",
    "            \n",
    "            low = guess + 1\n",
    "            \n",
    "        else:\n",
    "            \n",
    "            print('Congrats computer! You got the right answer!')\n",
    "            \n",
    "            break\n",
    "            \n",
    "computer_guess(1000)"
   ]
  }
 ],
 "metadata": {
  "kernelspec": {
   "display_name": "Python 3 (ipykernel)",
   "language": "python",
   "name": "python3"
  },
  "language_info": {
   "codemirror_mode": {
    "name": "ipython",
    "version": 3
   },
   "file_extension": ".py",
   "mimetype": "text/x-python",
   "name": "python",
   "nbconvert_exporter": "python",
   "pygments_lexer": "ipython3",
   "version": "3.9.12"
  }
 },
 "nbformat": 4,
 "nbformat_minor": 5
}
